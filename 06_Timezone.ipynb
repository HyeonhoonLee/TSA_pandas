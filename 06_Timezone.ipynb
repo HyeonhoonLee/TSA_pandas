{
  "nbformat": 4,
  "nbformat_minor": 0,
  "metadata": {
    "kernelspec": {
      "name": "python3",
      "display_name": "Python 3"
    },
    "colab": {
      "name": "06. Timezone.ipynb",
      "provenance": [],
      "toc_visible": true,
      "include_colab_link": true
    }
  },
  "cells": [
    {
      "cell_type": "markdown",
      "metadata": {
        "id": "view-in-github",
        "colab_type": "text"
      },
      "source": [
        "<a href=\"https://colab.research.google.com/github/HyeonhoonLee/TSA_pandas/blob/master/06_Timezone.ipynb\" target=\"_parent\"><img src=\"https://colab.research.google.com/assets/colab-badge.svg\" alt=\"Open In Colab\"/></a>"
      ]
    },
    {
      "cell_type": "markdown",
      "metadata": {
        "id": "8sSZvMT1CfRW",
        "colab_type": "text"
      },
      "source": [
        "# Timezone"
      ]
    },
    {
      "cell_type": "code",
      "metadata": {
        "id": "uy8_KvnfCfRZ",
        "colab_type": "code",
        "colab": {}
      },
      "source": [
        "from datetime import datetime, timezone, timedelta\n",
        "import pytz\n",
        "import pandas as pd\n",
        "import matplotlib.pyplot as plt\n",
        "import matplotlib.dates as dates"
      ],
      "execution_count": null,
      "outputs": []
    },
    {
      "cell_type": "markdown",
      "metadata": {
        "id": "Aryv4ZlrCfRg",
        "colab_type": "text"
      },
      "source": [
        "Python 내장 패키지를 사용하면 utc timezone 을 설정할 수 있습니다."
      ]
    },
    {
      "cell_type": "code",
      "metadata": {
        "id": "-1CUB5U8CfRh",
        "colab_type": "code",
        "colab": {},
        "outputId": "a0acded4-b5f5-410f-8668-ab901c948142"
      },
      "source": [
        "timezone.utc"
      ],
      "execution_count": null,
      "outputs": [
        {
          "output_type": "execute_result",
          "data": {
            "text/plain": [
              "datetime.timezone.utc"
            ]
          },
          "metadata": {
            "tags": []
          },
          "execution_count": 3
        }
      ]
    },
    {
      "cell_type": "code",
      "metadata": {
        "id": "LJyPzHc-CfRs",
        "colab_type": "code",
        "colab": {},
        "outputId": "2ad15dbf-456b-4285-9c77-f94288b4255e"
      },
      "source": [
        "# timezone unawared datetime\n",
        "datetime(2019,1,1)"
      ],
      "execution_count": null,
      "outputs": [
        {
          "output_type": "execute_result",
          "data": {
            "text/plain": [
              "datetime.datetime(2019, 1, 1, 0, 0)"
            ]
          },
          "metadata": {
            "tags": []
          },
          "execution_count": 4
        }
      ]
    },
    {
      "cell_type": "code",
      "metadata": {
        "id": "g3l1ZwEYCfRy",
        "colab_type": "code",
        "colab": {},
        "outputId": "9577c53b-b0c7-4fc2-eb29-3b8b9b2e8509"
      },
      "source": [
        "# timezone awared datetime\n",
        "datetime(2019,1,1,tzinfo=timezone.utc) "
      ],
      "execution_count": null,
      "outputs": [
        {
          "output_type": "execute_result",
          "data": {
            "text/plain": [
              "datetime.datetime(2019, 1, 1, 0, 0, tzinfo=datetime.timezone.utc)"
            ]
          },
          "metadata": {
            "tags": []
          },
          "execution_count": 5
        }
      ]
    },
    {
      "cell_type": "markdown",
      "metadata": {
        "id": "HOSn4ihGCfR6",
        "colab_type": "text"
      },
      "source": [
        "그러나 utc 외 timezone 을 표시하기 어렵기 때문에 pytz 패키지를 사용합니다."
      ]
    },
    {
      "cell_type": "code",
      "metadata": {
        "id": "6doTKEG-CfR7",
        "colab_type": "code",
        "colab": {},
        "outputId": "418ae181-526a-46ed-f83f-1e10e0fed412"
      },
      "source": [
        "datetime(2019,1,1,tzinfo=timezone.utc) == pytz.UTC.localize(datetime(2019,1,1))"
      ],
      "execution_count": null,
      "outputs": [
        {
          "output_type": "execute_result",
          "data": {
            "text/plain": [
              "True"
            ]
          },
          "metadata": {
            "tags": []
          },
          "execution_count": 6
        }
      ]
    },
    {
      "cell_type": "code",
      "metadata": {
        "id": "mBNI0hI4CfR_",
        "colab_type": "code",
        "colab": {}
      },
      "source": [
        "# 한국 표준시\n",
        "KST = pytz.timezone('Asia/Seoul')"
      ],
      "execution_count": null,
      "outputs": []
    },
    {
      "cell_type": "code",
      "metadata": {
        "id": "TD-ynTQ_CfSD",
        "colab_type": "code",
        "colab": {},
        "outputId": "66255e91-8446-4765-e543-64e0f7c9e74f"
      },
      "source": [
        "datetime(2019,1,1,tzinfo=timezone.utc) == KST.localize(datetime(2019,1,1))"
      ],
      "execution_count": null,
      "outputs": [
        {
          "output_type": "execute_result",
          "data": {
            "text/plain": [
              "False"
            ]
          },
          "metadata": {
            "tags": []
          },
          "execution_count": 8
        }
      ]
    },
    {
      "cell_type": "code",
      "metadata": {
        "id": "-uWz9bcECfSK",
        "colab_type": "code",
        "colab": {}
      },
      "source": [
        "# timezone unawared datetime\n",
        "mydate = datetime(2019,1,1)"
      ],
      "execution_count": null,
      "outputs": []
    },
    {
      "cell_type": "code",
      "metadata": {
        "id": "sRF2q34YCfSN",
        "colab_type": "code",
        "colab": {},
        "outputId": "909d55bc-622a-49fe-d243-97c9cba1a9bd"
      },
      "source": [
        "mydate"
      ],
      "execution_count": null,
      "outputs": [
        {
          "output_type": "execute_result",
          "data": {
            "text/plain": [
              "datetime.datetime(2019, 1, 1, 0, 0)"
            ]
          },
          "metadata": {
            "tags": []
          },
          "execution_count": 13
        }
      ]
    },
    {
      "cell_type": "code",
      "metadata": {
        "id": "BDroqkhYCfSS",
        "colab_type": "code",
        "colab": {}
      },
      "source": [
        "# timezone awared datetime\n",
        "mydate_kst = KST.localize(mydate)"
      ],
      "execution_count": null,
      "outputs": []
    },
    {
      "cell_type": "code",
      "metadata": {
        "id": "ZAK4PmHnCfSW",
        "colab_type": "code",
        "colab": {},
        "outputId": "957fde12-b5cb-494b-a4e4-62d552eee1d4"
      },
      "source": [
        "mydate_kst"
      ],
      "execution_count": null,
      "outputs": [
        {
          "output_type": "execute_result",
          "data": {
            "text/plain": [
              "datetime.datetime(2019, 1, 1, 0, 0, tzinfo=<DstTzInfo 'Asia/Seoul' KST+9:00:00 STD>)"
            ]
          },
          "metadata": {
            "tags": []
          },
          "execution_count": 15
        }
      ]
    },
    {
      "cell_type": "code",
      "metadata": {
        "id": "nPy2PPLLCfSc",
        "colab_type": "code",
        "colab": {},
        "outputId": "9b367be6-2d63-44d7-f34b-04909084df74"
      },
      "source": [
        "# timezone conversion\n",
        "mydate_kst.astimezone(pytz.utc)"
      ],
      "execution_count": null,
      "outputs": [
        {
          "output_type": "execute_result",
          "data": {
            "text/plain": [
              "datetime.datetime(2018, 12, 31, 15, 0, tzinfo=<UTC>)"
            ]
          },
          "metadata": {
            "tags": []
          },
          "execution_count": 17
        }
      ]
    },
    {
      "cell_type": "code",
      "metadata": {
        "id": "gH05e_TVCfSg",
        "colab_type": "code",
        "colab": {},
        "outputId": "c75294d1-cf3b-45a1-fee5-a0b6977d701c"
      },
      "source": [
        "mydate_kst.astimezone(pytz.utc) == mydate_kst"
      ],
      "execution_count": null,
      "outputs": [
        {
          "output_type": "execute_result",
          "data": {
            "text/plain": [
              "True"
            ]
          },
          "metadata": {
            "tags": []
          },
          "execution_count": 18
        }
      ]
    },
    {
      "cell_type": "markdown",
      "metadata": {
        "id": "RyNjRQpvCfSl",
        "colab_type": "text"
      },
      "source": [
        "### Timezone formatting\n",
        "timezone awared datetime 을 문자열로 표시할 때도 timezone 정보를 포함시킬 수 있습니다."
      ]
    },
    {
      "cell_type": "code",
      "metadata": {
        "id": "ek09RherCfSm",
        "colab_type": "code",
        "colab": {},
        "outputId": "973ad135-207d-489d-efad-13ddc07747f6"
      },
      "source": [
        "# strftime.org 참조\n",
        "mydate_kst.strftime(\"%Y-%m-%d %H:%M:%S%Z\")"
      ],
      "execution_count": null,
      "outputs": [
        {
          "output_type": "execute_result",
          "data": {
            "text/plain": [
              "'2019-01-01 00:00:00KST'"
            ]
          },
          "metadata": {
            "tags": []
          },
          "execution_count": 19
        }
      ]
    },
    {
      "cell_type": "code",
      "metadata": {
        "id": "ddCAWqjiCfSq",
        "colab_type": "code",
        "colab": {},
        "outputId": "a980fc28-4717-4ae0-daad-8b4cfa8399c8"
      },
      "source": [
        "mydate_kst.astimezone(pytz.utc).strftime(\"%Y-%m-%d %H:%M:%S%Z\")"
      ],
      "execution_count": null,
      "outputs": [
        {
          "output_type": "execute_result",
          "data": {
            "text/plain": [
              "'2018-12-31 15:00:00UTC'"
            ]
          },
          "metadata": {
            "tags": []
          },
          "execution_count": 20
        }
      ]
    },
    {
      "cell_type": "markdown",
      "metadata": {
        "id": "R5kHj-v8CfSu",
        "colab_type": "text"
      },
      "source": [
        "### Current datetime"
      ]
    },
    {
      "cell_type": "code",
      "metadata": {
        "id": "MpoGbC_2CfSv",
        "colab_type": "code",
        "colab": {}
      },
      "source": [
        "today = datetime.today()"
      ],
      "execution_count": null,
      "outputs": []
    },
    {
      "cell_type": "markdown",
      "metadata": {
        "id": "-vy9JkSsCfSz",
        "colab_type": "text"
      },
      "source": [
        "**today** 메서드는 시스템에 설정된 환경정보에 따라 timezone 정보 없이 데이터를 리턴하므로 다른 환경의 다른 컴퓨터에서 같은 코드를 실행할 시 문제를 발생시킬 수 있습니다. 절대적인 값으로 현재 시각을 가져올 방법이 필요합니다. **utcnow** 함수는 UTC 기준의 현재 시각을 리턴합니다."
      ]
    },
    {
      "cell_type": "code",
      "metadata": {
        "id": "KPTY_O6VCfSz",
        "colab_type": "code",
        "colab": {},
        "outputId": "5e4bbdba-1284-4221-93ce-cd755fed0dbc"
      },
      "source": [
        "# utc 표준시 이지만 time unawared datetime 입니다.\n",
        "datetime.utcnow()"
      ],
      "execution_count": null,
      "outputs": [
        {
          "output_type": "execute_result",
          "data": {
            "text/plain": [
              "datetime.datetime(2019, 1, 31, 8, 40, 49, 276846)"
            ]
          },
          "metadata": {
            "tags": []
          },
          "execution_count": 22
        }
      ]
    },
    {
      "cell_type": "code",
      "metadata": {
        "id": "Ndwf2B62CfS5",
        "colab_type": "code",
        "colab": {},
        "outputId": "07c13759-69b5-4698-d8b8-563dd619065e"
      },
      "source": [
        "# time awared datetime 으로 만들어 사용\n",
        "datetime.utcnow().astimezone(KST)"
      ],
      "execution_count": null,
      "outputs": [
        {
          "output_type": "execute_result",
          "data": {
            "text/plain": [
              "datetime.datetime(2019, 1, 31, 8, 42, 47, 131384, tzinfo=<DstTzInfo 'Asia/Seoul' KST+9:00:00 STD>)"
            ]
          },
          "metadata": {
            "tags": []
          },
          "execution_count": 23
        }
      ]
    },
    {
      "cell_type": "markdown",
      "metadata": {
        "id": "pd3cICzhCfTB",
        "colab_type": "text"
      },
      "source": [
        "### 최근 금요일 날짜 리턴하는 함수 만들기"
      ]
    },
    {
      "cell_type": "markdown",
      "metadata": {
        "id": "YgxlIi4UCfTC",
        "colab_type": "text"
      },
      "source": [
        "요일 가져오기"
      ]
    },
    {
      "cell_type": "code",
      "metadata": {
        "id": "sQdUgOOpCfTD",
        "colab_type": "code",
        "colab": {},
        "outputId": "5385381f-2604-4264-ab8c-02ffde05ccf8"
      },
      "source": [
        "# 요일 가져오기; 0:월, 1:화, ... , 6:일\n",
        "datetime(2019,1,23).weekday()"
      ],
      "execution_count": null,
      "outputs": [
        {
          "output_type": "execute_result",
          "data": {
            "text/plain": [
              "2"
            ]
          },
          "metadata": {
            "tags": []
          },
          "execution_count": 29
        }
      ]
    },
    {
      "cell_type": "code",
      "metadata": {
        "id": "SNqAtJuxCfTH",
        "colab_type": "code",
        "colab": {},
        "outputId": "93cb4c78-7f91-416b-9b61-a1746539b005"
      },
      "source": [
        "today.weekday()"
      ],
      "execution_count": null,
      "outputs": [
        {
          "output_type": "execute_result",
          "data": {
            "text/plain": [
              "3"
            ]
          },
          "metadata": {
            "tags": []
          },
          "execution_count": 30
        }
      ]
    },
    {
      "cell_type": "markdown",
      "metadata": {
        "id": "mLwxGKn_CfTL",
        "colab_type": "text"
      },
      "source": [
        "시간차 정보 다루기"
      ]
    },
    {
      "cell_type": "code",
      "metadata": {
        "id": "ONwv6OVfCfTM",
        "colab_type": "code",
        "colab": {},
        "outputId": "b6205fe7-5b3f-4387-b03d-0af366eaba3a"
      },
      "source": [
        "# UTC 시간과 KST 시간 차이는 9시간\n",
        "pytz.utc.localize(mydate) - KST.localize(mydate)"
      ],
      "execution_count": null,
      "outputs": [
        {
          "output_type": "execute_result",
          "data": {
            "text/plain": [
              "datetime.timedelta(seconds=32400)"
            ]
          },
          "metadata": {
            "tags": []
          },
          "execution_count": 31
        }
      ]
    },
    {
      "cell_type": "code",
      "metadata": {
        "id": "abbf3tqCCfTQ",
        "colab_type": "code",
        "colab": {},
        "outputId": "ce381cb3-d42f-4d9e-99e7-4d3a1b25bcd6"
      },
      "source": [
        "# UTC 시간에 9시간을 더하기\n",
        "pytz.utc.localize(mydate) + timedelta(seconds=32400)"
      ],
      "execution_count": null,
      "outputs": [
        {
          "output_type": "execute_result",
          "data": {
            "text/plain": [
              "datetime.datetime(2019, 1, 1, 9, 0, tzinfo=<UTC>)"
            ]
          },
          "metadata": {
            "tags": []
          },
          "execution_count": 32
        }
      ]
    },
    {
      "cell_type": "code",
      "metadata": {
        "id": "7WvDd2dhCfTV",
        "colab_type": "code",
        "colab": {}
      },
      "source": [
        "def last_friday():\n",
        "    today = KST.localize(datetime.today())\n",
        "    offset = 4 - today.weekday() % 4\n",
        "    aweekago = today - timedelta(weeks=1)\n",
        "    last_friday = aweekago + timedelta(days=offset)\n",
        "    return last_friday"
      ],
      "execution_count": null,
      "outputs": []
    },
    {
      "cell_type": "code",
      "metadata": {
        "id": "JFfZmkz9CfTa",
        "colab_type": "code",
        "colab": {},
        "outputId": "9d704f94-56da-4cdf-bbe1-2348b471482f"
      },
      "source": [
        "last_friday()"
      ],
      "execution_count": null,
      "outputs": [
        {
          "output_type": "execute_result",
          "data": {
            "text/plain": [
              "datetime.datetime(2019, 1, 25, 17, 48, 32, 512183, tzinfo=<DstTzInfo 'Asia/Seoul' KST+9:00:00 STD>)"
            ]
          },
          "metadata": {
            "tags": []
          },
          "execution_count": 34
        }
      ]
    }
  ]
}