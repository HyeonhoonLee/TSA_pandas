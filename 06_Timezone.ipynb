{
  "nbformat": 4,
  "nbformat_minor": 0,
  "metadata": {
    "kernelspec": {
      "name": "python3",
      "display_name": "Python 3"
    },
    "colab": {
      "name": "06. Timezone.ipynb",
      "provenance": [],
      "collapsed_sections": [],
      "toc_visible": true,
      "include_colab_link": true
    }
  },
  "cells": [
    {
      "cell_type": "markdown",
      "metadata": {
        "id": "view-in-github",
        "colab_type": "text"
      },
      "source": [
        "<a href=\"https://colab.research.google.com/github/HyeonhoonLee/TSA_pandas/blob/master/06_Timezone.ipynb\" target=\"_parent\"><img src=\"https://colab.research.google.com/assets/colab-badge.svg\" alt=\"Open In Colab\"/></a>"
      ]
    },
    {
      "cell_type": "markdown",
      "metadata": {
        "id": "8sSZvMT1CfRW",
        "colab_type": "text"
      },
      "source": [
        "# Timezone\n",
        "- 이 부분은 나중에 필요할 때 듣고 사용해도 된다.\n",
        "* https://www.youtube.com/watch?v=9QTIq4Ul5AE&list=PL9mhQYIlKEhd60Qq4r2yC7xYKIhs97FfC&index=3"
      ]
    },
    {
      "cell_type": "code",
      "metadata": {
        "id": "uy8_KvnfCfRZ",
        "colab_type": "code",
        "colab": {}
      },
      "source": [
        "from datetime import datetime, timezone, timedelta\n",
        "import pytz\n",
        "import pandas as pd\n",
        "import matplotlib.pyplot as plt\n",
        "import matplotlib.dates as dates"
      ],
      "execution_count": 5,
      "outputs": []
    },
    {
      "cell_type": "markdown",
      "metadata": {
        "id": "Aryv4ZlrCfRg",
        "colab_type": "text"
      },
      "source": [
        "Python 내장 패키지를 사용하면 utc timezone 을 설정할 수 있습니다."
      ]
    },
    {
      "cell_type": "code",
      "metadata": {
        "id": "-1CUB5U8CfRh",
        "colab_type": "code",
        "colab": {
          "base_uri": "https://localhost:8080/",
          "height": 35
        },
        "outputId": "bfea37b6-0bc6-4d4b-d37b-b0f57659cee3"
      },
      "source": [
        "timezone.utc"
      ],
      "execution_count": 6,
      "outputs": [
        {
          "output_type": "execute_result",
          "data": {
            "text/plain": [
              "datetime.timezone.utc"
            ]
          },
          "metadata": {
            "tags": []
          },
          "execution_count": 6
        }
      ]
    },
    {
      "cell_type": "code",
      "metadata": {
        "id": "LJyPzHc-CfRs",
        "colab_type": "code",
        "colab": {
          "base_uri": "https://localhost:8080/",
          "height": 35
        },
        "outputId": "22352625-e6ce-4ab2-bcdf-f39944722ce3"
      },
      "source": [
        "# timezone unawared datetime\n",
        "datetime(2019,1,1)"
      ],
      "execution_count": 7,
      "outputs": [
        {
          "output_type": "execute_result",
          "data": {
            "text/plain": [
              "datetime.datetime(2019, 1, 1, 0, 0)"
            ]
          },
          "metadata": {
            "tags": []
          },
          "execution_count": 7
        }
      ]
    },
    {
      "cell_type": "code",
      "metadata": {
        "id": "g3l1ZwEYCfRy",
        "colab_type": "code",
        "colab": {
          "base_uri": "https://localhost:8080/",
          "height": 35
        },
        "outputId": "4ed77c84-3ab7-4a3b-d898-7b2831ce56de"
      },
      "source": [
        "# timezone awared datetime\n",
        "datetime(2019,1,1,tzinfo=timezone.utc) "
      ],
      "execution_count": 8,
      "outputs": [
        {
          "output_type": "execute_result",
          "data": {
            "text/plain": [
              "datetime.datetime(2019, 1, 1, 0, 0, tzinfo=datetime.timezone.utc)"
            ]
          },
          "metadata": {
            "tags": []
          },
          "execution_count": 8
        }
      ]
    },
    {
      "cell_type": "markdown",
      "metadata": {
        "id": "HOSn4ihGCfR6",
        "colab_type": "text"
      },
      "source": [
        "그러나 utc 외 timezone 을 표시하기 어렵기 때문에 pytz 패키지를 사용합니다."
      ]
    },
    {
      "cell_type": "code",
      "metadata": {
        "id": "6doTKEG-CfR7",
        "colab_type": "code",
        "colab": {
          "base_uri": "https://localhost:8080/",
          "height": 35
        },
        "outputId": "68d7a32f-16d7-4df6-ad4a-7499877f82a3"
      },
      "source": [
        "datetime(2019,1,1,tzinfo=timezone.utc) == pytz.UTC.localize(datetime(2019,1,1))"
      ],
      "execution_count": 10,
      "outputs": [
        {
          "output_type": "execute_result",
          "data": {
            "text/plain": [
              "True"
            ]
          },
          "metadata": {
            "tags": []
          },
          "execution_count": 10
        }
      ]
    },
    {
      "cell_type": "code",
      "metadata": {
        "id": "mBNI0hI4CfR_",
        "colab_type": "code",
        "colab": {}
      },
      "source": [
        "# 한국 표준시\n",
        "KST = pytz.timezone('Asia/Seoul')"
      ],
      "execution_count": 11,
      "outputs": []
    },
    {
      "cell_type": "code",
      "metadata": {
        "id": "TD-ynTQ_CfSD",
        "colab_type": "code",
        "colab": {
          "base_uri": "https://localhost:8080/",
          "height": 35
        },
        "outputId": "0dc5725c-77f5-4afc-cfb5-1db68c73c7a8"
      },
      "source": [
        "datetime(2019,1,1,tzinfo=timezone.utc) == KST.localize(datetime(2019,1,1))"
      ],
      "execution_count": 12,
      "outputs": [
        {
          "output_type": "execute_result",
          "data": {
            "text/plain": [
              "False"
            ]
          },
          "metadata": {
            "tags": []
          },
          "execution_count": 12
        }
      ]
    },
    {
      "cell_type": "code",
      "metadata": {
        "id": "-uWz9bcECfSK",
        "colab_type": "code",
        "colab": {}
      },
      "source": [
        "# timezone unawared datetime\n",
        "mydate = datetime(2019,1,1)"
      ],
      "execution_count": 13,
      "outputs": []
    },
    {
      "cell_type": "code",
      "metadata": {
        "id": "sRF2q34YCfSN",
        "colab_type": "code",
        "colab": {
          "base_uri": "https://localhost:8080/",
          "height": 35
        },
        "outputId": "5c1fbe67-ff62-44d7-d9f2-785360d17707"
      },
      "source": [
        "mydate"
      ],
      "execution_count": 14,
      "outputs": [
        {
          "output_type": "execute_result",
          "data": {
            "text/plain": [
              "datetime.datetime(2019, 1, 1, 0, 0)"
            ]
          },
          "metadata": {
            "tags": []
          },
          "execution_count": 14
        }
      ]
    },
    {
      "cell_type": "code",
      "metadata": {
        "id": "BDroqkhYCfSS",
        "colab_type": "code",
        "colab": {}
      },
      "source": [
        "# timezone awared datetime\n",
        "mydate_kst = KST.localize(mydate)"
      ],
      "execution_count": 15,
      "outputs": []
    },
    {
      "cell_type": "code",
      "metadata": {
        "id": "ZAK4PmHnCfSW",
        "colab_type": "code",
        "colab": {
          "base_uri": "https://localhost:8080/",
          "height": 35
        },
        "outputId": "672199a6-b22c-49f6-9220-21beb56aad83"
      },
      "source": [
        "mydate_kst"
      ],
      "execution_count": 16,
      "outputs": [
        {
          "output_type": "execute_result",
          "data": {
            "text/plain": [
              "datetime.datetime(2019, 1, 1, 0, 0, tzinfo=<DstTzInfo 'Asia/Seoul' KST+9:00:00 STD>)"
            ]
          },
          "metadata": {
            "tags": []
          },
          "execution_count": 16
        }
      ]
    },
    {
      "cell_type": "code",
      "metadata": {
        "id": "nPy2PPLLCfSc",
        "colab_type": "code",
        "colab": {
          "base_uri": "https://localhost:8080/",
          "height": 35
        },
        "outputId": "3a6c2853-7eb3-43fe-c408-9fcf92e260bd"
      },
      "source": [
        "# timezone conversion\n",
        "mydate_kst.astimezone(pytz.utc)"
      ],
      "execution_count": 17,
      "outputs": [
        {
          "output_type": "execute_result",
          "data": {
            "text/plain": [
              "datetime.datetime(2018, 12, 31, 15, 0, tzinfo=<UTC>)"
            ]
          },
          "metadata": {
            "tags": []
          },
          "execution_count": 17
        }
      ]
    },
    {
      "cell_type": "code",
      "metadata": {
        "id": "gH05e_TVCfSg",
        "colab_type": "code",
        "colab": {},
        "outputId": "c75294d1-cf3b-45a1-fee5-a0b6977d701c"
      },
      "source": [
        "# 겉으로 보이는 Date표기는 다르지만, tzinfo에 따라 timezone이 다르므로 실제 시간은 같다.(True)\n",
        "mydate_kst.astimezone(pytz.utc) == mydate_kst"
      ],
      "execution_count": null,
      "outputs": [
        {
          "output_type": "execute_result",
          "data": {
            "text/plain": [
              "True"
            ]
          },
          "metadata": {
            "tags": []
          },
          "execution_count": 18
        }
      ]
    },
    {
      "cell_type": "code",
      "metadata": {
        "id": "JVnb0d8iH8Lj",
        "colab_type": "code",
        "colab": {
          "base_uri": "https://localhost:8080/",
          "height": 35
        },
        "outputId": "aae82cfa-d26b-4bd8-f401-8747d4333397"
      },
      "source": [
        "# replace 함수로 바꿀 경우, Y, M, D는 정확한데, timezone은 정확하지 않게 바뀐다.\n",
        "mydate.replace(year=2018)"
      ],
      "execution_count": 18,
      "outputs": [
        {
          "output_type": "execute_result",
          "data": {
            "text/plain": [
              "datetime.datetime(2018, 1, 1, 0, 0)"
            ]
          },
          "metadata": {
            "tags": []
          },
          "execution_count": 18
        }
      ]
    },
    {
      "cell_type": "code",
      "metadata": {
        "id": "g2WgWaVcIHGP",
        "colab_type": "code",
        "colab": {
          "base_uri": "https://localhost:8080/",
          "height": 35
        },
        "outputId": "287dd6d8-65dd-4ff7-c438-d566540c9d54"
      },
      "source": [
        "mydate.replace(tzinfo=KST)\n",
        "# 따라서 localiz 함수를 이용하여 return하는게 정확하다."
      ],
      "execution_count": 19,
      "outputs": [
        {
          "output_type": "execute_result",
          "data": {
            "text/plain": [
              "datetime.datetime(2019, 1, 1, 0, 0, tzinfo=<DstTzInfo 'Asia/Seoul' LMT+8:28:00 STD>)"
            ]
          },
          "metadata": {
            "tags": []
          },
          "execution_count": 19
        }
      ]
    },
    {
      "cell_type": "markdown",
      "metadata": {
        "id": "RyNjRQpvCfSl",
        "colab_type": "text"
      },
      "source": [
        "### Timezone formatting\n",
        "timezone awared datetime 을 문자열로 표시할 때도 timezone 정보를 포함시킬 수 있습니다."
      ]
    },
    {
      "cell_type": "code",
      "metadata": {
        "id": "ek09RherCfSm",
        "colab_type": "code",
        "colab": {
          "base_uri": "https://localhost:8080/",
          "height": 35
        },
        "outputId": "0c09b0cf-975a-4078-d9b0-fc0bc7ea0f00"
      },
      "source": [
        "# strftime.org 참조\n",
        "mydate_kst.strftime(\"%Y-%m-%d %H:%M:%S%Z\")"
      ],
      "execution_count": 20,
      "outputs": [
        {
          "output_type": "execute_result",
          "data": {
            "application/vnd.google.colaboratory.intrinsic+json": {
              "type": "string"
            },
            "text/plain": [
              "'2019-01-01 00:00:00KST'"
            ]
          },
          "metadata": {
            "tags": []
          },
          "execution_count": 20
        }
      ]
    },
    {
      "cell_type": "code",
      "metadata": {
        "id": "ddCAWqjiCfSq",
        "colab_type": "code",
        "colab": {
          "base_uri": "https://localhost:8080/",
          "height": 35
        },
        "outputId": "3d0a9f34-323d-42d8-9544-43b0c05af577"
      },
      "source": [
        "mydate_kst.astimezone(pytz.utc).strftime(\"%Y-%m-%d %H:%M:%S%Z\")"
      ],
      "execution_count": 21,
      "outputs": [
        {
          "output_type": "execute_result",
          "data": {
            "application/vnd.google.colaboratory.intrinsic+json": {
              "type": "string"
            },
            "text/plain": [
              "'2018-12-31 15:00:00UTC'"
            ]
          },
          "metadata": {
            "tags": []
          },
          "execution_count": 21
        }
      ]
    },
    {
      "cell_type": "markdown",
      "metadata": {
        "id": "R5kHj-v8CfSu",
        "colab_type": "text"
      },
      "source": [
        "### Current datetime"
      ]
    },
    {
      "cell_type": "code",
      "metadata": {
        "id": "MpoGbC_2CfSv",
        "colab_type": "code",
        "colab": {}
      },
      "source": [
        "today = datetime.today()"
      ],
      "execution_count": 22,
      "outputs": []
    },
    {
      "cell_type": "markdown",
      "metadata": {
        "id": "-vy9JkSsCfSz",
        "colab_type": "text"
      },
      "source": [
        "**today** 메서드는 시스템에 설정된 환경정보에 따라 timezone 정보 없이 데이터를 리턴하므로 다른 환경의 다른 컴퓨터에서 같은 코드를 실행할 시 문제를 발생시킬 수 있습니다. 절대적인 값으로 현재 시각을 가져올 방법이 필요합니다. **utcnow** 함수는 UTC 기준의 현재 시각을 리턴합니다."
      ]
    },
    {
      "cell_type": "code",
      "metadata": {
        "id": "KPTY_O6VCfSz",
        "colab_type": "code",
        "colab": {
          "base_uri": "https://localhost:8080/",
          "height": 35
        },
        "outputId": "10d7c7ce-565e-43f3-bbe4-72cf0fc94205"
      },
      "source": [
        "# utc 표준시 이지만 time unawared datetime 입니다.\n",
        "datetime.utcnow()"
      ],
      "execution_count": 23,
      "outputs": [
        {
          "output_type": "execute_result",
          "data": {
            "text/plain": [
              "datetime.datetime(2020, 9, 2, 14, 6, 55, 612983)"
            ]
          },
          "metadata": {
            "tags": []
          },
          "execution_count": 23
        }
      ]
    },
    {
      "cell_type": "code",
      "metadata": {
        "id": "Ndwf2B62CfS5",
        "colab_type": "code",
        "colab": {
          "base_uri": "https://localhost:8080/",
          "height": 35
        },
        "outputId": "b963d805-24cf-4676-fd16-d2bb47a6aba4"
      },
      "source": [
        "# time awared datetime 으로 만들어 사용\n",
        "datetime.utcnow().astimezone(KST)"
      ],
      "execution_count": 24,
      "outputs": [
        {
          "output_type": "execute_result",
          "data": {
            "text/plain": [
              "datetime.datetime(2020, 9, 2, 23, 6, 58, 164168, tzinfo=<DstTzInfo 'Asia/Seoul' KST+9:00:00 STD>)"
            ]
          },
          "metadata": {
            "tags": []
          },
          "execution_count": 24
        }
      ]
    },
    {
      "cell_type": "markdown",
      "metadata": {
        "id": "pd3cICzhCfTB",
        "colab_type": "text"
      },
      "source": [
        "### 최근 금요일 날짜 리턴하는 함수 만들기"
      ]
    },
    {
      "cell_type": "markdown",
      "metadata": {
        "id": "YgxlIi4UCfTC",
        "colab_type": "text"
      },
      "source": [
        "요일 가져오기"
      ]
    },
    {
      "cell_type": "code",
      "metadata": {
        "id": "sQdUgOOpCfTD",
        "colab_type": "code",
        "colab": {
          "base_uri": "https://localhost:8080/",
          "height": 35
        },
        "outputId": "07d23c9d-6a1a-43e0-d7b3-2a1196412fdf"
      },
      "source": [
        "# 요일 가져오기; 0:월, 1:화, ... , 6:일\n",
        "datetime(2019,1,23).weekday()"
      ],
      "execution_count": 25,
      "outputs": [
        {
          "output_type": "execute_result",
          "data": {
            "text/plain": [
              "2"
            ]
          },
          "metadata": {
            "tags": []
          },
          "execution_count": 25
        }
      ]
    },
    {
      "cell_type": "code",
      "metadata": {
        "id": "SNqAtJuxCfTH",
        "colab_type": "code",
        "colab": {
          "base_uri": "https://localhost:8080/",
          "height": 35
        },
        "outputId": "1a17dd9a-7167-44d4-d1ec-69a9ba3ac93c"
      },
      "source": [
        "today.weekday()"
      ],
      "execution_count": 26,
      "outputs": [
        {
          "output_type": "execute_result",
          "data": {
            "text/plain": [
              "2"
            ]
          },
          "metadata": {
            "tags": []
          },
          "execution_count": 26
        }
      ]
    },
    {
      "cell_type": "markdown",
      "metadata": {
        "id": "mLwxGKn_CfTL",
        "colab_type": "text"
      },
      "source": [
        "시간차 정보 다루기\n",
        "- timedelta 를 import 해야한다."
      ]
    },
    {
      "cell_type": "code",
      "metadata": {
        "id": "ONwv6OVfCfTM",
        "colab_type": "code",
        "colab": {
          "base_uri": "https://localhost:8080/",
          "height": 35
        },
        "outputId": "e2bd6a3a-e41a-4898-d1e1-c6c907d9d240"
      },
      "source": [
        "# UTC 시간과 KST 시간 차이는 9시간\n",
        "pytz.utc.localize(mydate) - KST.localize(mydate)"
      ],
      "execution_count": 27,
      "outputs": [
        {
          "output_type": "execute_result",
          "data": {
            "text/plain": [
              "datetime.timedelta(0, 32400)"
            ]
          },
          "metadata": {
            "tags": []
          },
          "execution_count": 27
        }
      ]
    },
    {
      "cell_type": "code",
      "metadata": {
        "id": "abbf3tqCCfTQ",
        "colab_type": "code",
        "colab": {
          "base_uri": "https://localhost:8080/",
          "height": 35
        },
        "outputId": "a78bb60a-eef1-4828-fae6-a52ee0c34f17"
      },
      "source": [
        "# UTC 시간에 9시간을 더하기\n",
        "pytz.utc.localize(mydate) + timedelta(seconds=32400)"
      ],
      "execution_count": 28,
      "outputs": [
        {
          "output_type": "execute_result",
          "data": {
            "text/plain": [
              "datetime.datetime(2019, 1, 1, 9, 0, tzinfo=<UTC>)"
            ]
          },
          "metadata": {
            "tags": []
          },
          "execution_count": 28
        }
      ]
    },
    {
      "cell_type": "code",
      "metadata": {
        "id": "7WvDd2dhCfTV",
        "colab_type": "code",
        "colab": {}
      },
      "source": [
        "# 최근 마지막 금요일이 언제인지 함수 만들어보기\n",
        "def last_friday():\n",
        "    today = KST.localize(datetime.today())\n",
        "    offset = 4 - today.weekday() % 4\n",
        "    aweekago = today - timedelta(weeks=1)\n",
        "    #aweekago = today.replace(day=today.day-7)  ==> 이렇게하면 첫째주에서 이전 달로 넘어가지 못한다.\n",
        "    last_friday = aweekago + timedelta(days=offset)\n",
        "    #last_friday = aweekago.replace(day=aweekago.day+offset)   ==> 이렇게하면 첫째주에서 이전 달로 넘어가지 못한다.\n",
        "    return last_friday"
      ],
      "execution_count": 29,
      "outputs": []
    },
    {
      "cell_type": "code",
      "metadata": {
        "id": "JFfZmkz9CfTa",
        "colab_type": "code",
        "colab": {
          "base_uri": "https://localhost:8080/",
          "height": 35
        },
        "outputId": "8de1a43e-f58a-4cd4-8cb4-0a66744eeeb0"
      },
      "source": [
        "last_friday()"
      ],
      "execution_count": 30,
      "outputs": [
        {
          "output_type": "execute_result",
          "data": {
            "text/plain": [
              "datetime.datetime(2020, 8, 28, 14, 10, 28, 422862, tzinfo=<DstTzInfo 'Asia/Seoul' KST+9:00:00 STD>)"
            ]
          },
          "metadata": {
            "tags": []
          },
          "execution_count": 30
        }
      ]
    }
  ]
}