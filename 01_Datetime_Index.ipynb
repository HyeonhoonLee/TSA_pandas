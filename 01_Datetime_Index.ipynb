{
  "nbformat": 4,
  "nbformat_minor": 0,
  "metadata": {
    "kernelspec": {
      "display_name": "tsa",
      "language": "python",
      "name": "tsa"
    },
    "language_info": {
      "codemirror_mode": {
        "name": "ipython",
        "version": 3
      },
      "file_extension": ".py",
      "mimetype": "text/x-python",
      "name": "python",
      "nbconvert_exporter": "python",
      "pygments_lexer": "ipython3",
      "version": "3.7.2"
    },
    "colab": {
      "name": "01. Datetime Index.ipynb",
      "provenance": [],
      "collapsed_sections": [],
      "include_colab_link": true
    }
  },
  "cells": [
    {
      "cell_type": "markdown",
      "metadata": {
        "id": "view-in-github",
        "colab_type": "text"
      },
      "source": [
        "<a href=\"https://colab.research.google.com/github/HyeonhoonLee/TSA_pandas/blob/master/01_Datetime_Index.ipynb\" target=\"_parent\"><img src=\"https://colab.research.google.com/assets/colab-badge.svg\" alt=\"Open In Colab\"/></a>"
      ]
    },
    {
      "cell_type": "markdown",
      "metadata": {
        "id": "g7FEBuGXe796",
        "colab_type": "text"
      },
      "source": [
        "# Datetime Index\n",
        "- Time 또는 date 정보는 별개의 칼럼이기보다 인덱스인 경우가 많습니다.\n",
        "- Pandas에 내장된 기능들로 DateTime 인덱스를 생성하고 활용하는 방법을 다룹니다."
      ]
    },
    {
      "cell_type": "code",
      "metadata": {
        "id": "GOg4pdMEe797",
        "colab_type": "code",
        "colab": {}
      },
      "source": [
        "import numpy as np\n",
        "import pandas as pd\n",
        "import matplotlib.pyplot as plt"
      ],
      "execution_count": null,
      "outputs": []
    },
    {
      "cell_type": "code",
      "metadata": {
        "id": "SClit6l3e79_",
        "colab_type": "code",
        "colab": {}
      },
      "source": [
        "from datetime import datetime"
      ],
      "execution_count": null,
      "outputs": []
    },
    {
      "cell_type": "code",
      "metadata": {
        "id": "ycGVzfMKe7-C",
        "colab_type": "code",
        "colab": {}
      },
      "source": [
        "# 2019년 1월 24일\n",
        "today = datetime(2019,1,24)"
      ],
      "execution_count": null,
      "outputs": []
    },
    {
      "cell_type": "code",
      "metadata": {
        "id": "JgSpY98Se7-E",
        "colab_type": "code",
        "colab": {},
        "outputId": "66e1f2d6-a6a6-4e1a-b6b0-2daac7c67a30"
      },
      "source": [
        "# 0시, 0분 디폴트값\n",
        "today"
      ],
      "execution_count": null,
      "outputs": [
        {
          "output_type": "execute_result",
          "data": {
            "text/plain": [
              "datetime.datetime(2019, 1, 24, 0, 0)"
            ]
          },
          "metadata": {
            "tags": []
          },
          "execution_count": 4
        }
      ]
    },
    {
      "cell_type": "code",
      "metadata": {
        "id": "LX84lMu0e7-H",
        "colab_type": "code",
        "colab": {}
      },
      "source": [
        "# 시,분,초 지정\n",
        "today = datetime(2019,1,24,13,39)"
      ],
      "execution_count": null,
      "outputs": []
    },
    {
      "cell_type": "code",
      "metadata": {
        "id": "RDua0W2Ie7-J",
        "colab_type": "code",
        "colab": {},
        "outputId": "9a0dc033-af84-4c54-8c2c-c1f30e8bde03"
      },
      "source": [
        "today"
      ],
      "execution_count": null,
      "outputs": [
        {
          "output_type": "execute_result",
          "data": {
            "text/plain": [
              "datetime.datetime(2019, 1, 24, 13, 39)"
            ]
          },
          "metadata": {
            "tags": []
          },
          "execution_count": 6
        }
      ]
    },
    {
      "cell_type": "code",
      "metadata": {
        "id": "bz17oYSse7-M",
        "colab_type": "code",
        "colab": {},
        "outputId": "f5a5d16b-bfa8-48a4-fe15-3dacd8557bfa"
      },
      "source": [
        "today.day"
      ],
      "execution_count": null,
      "outputs": [
        {
          "output_type": "execute_result",
          "data": {
            "text/plain": [
              "24"
            ]
          },
          "metadata": {
            "tags": []
          },
          "execution_count": 7
        }
      ]
    },
    {
      "cell_type": "code",
      "metadata": {
        "id": "JhPjXb80e7-O",
        "colab_type": "code",
        "colab": {},
        "outputId": "4fab2e7c-f009-4f33-891f-16a3e2208526"
      },
      "source": [
        "today.hour"
      ],
      "execution_count": null,
      "outputs": [
        {
          "output_type": "execute_result",
          "data": {
            "text/plain": [
              "13"
            ]
          },
          "metadata": {
            "tags": []
          },
          "execution_count": 8
        }
      ]
    },
    {
      "cell_type": "markdown",
      "metadata": {
        "id": "SB1JvGWxe7-Q",
        "colab_type": "text"
      },
      "source": [
        "### Pandas with Datetime Index"
      ]
    },
    {
      "cell_type": "code",
      "metadata": {
        "id": "v-nkz6ZIe7-Q",
        "colab_type": "code",
        "colab": {}
      },
      "source": [
        "# datetime 객체로 list 생성 예시\n",
        "dates = [datetime(2019,1,23), datetime(2019,1,24)]"
      ],
      "execution_count": null,
      "outputs": []
    },
    {
      "cell_type": "code",
      "metadata": {
        "id": "2KqjE00We7-S",
        "colab_type": "code",
        "colab": {},
        "outputId": "ed744797-8fe6-4b17-b9c6-2e9677f4875d"
      },
      "source": [
        "# 인덱스 전환\n",
        "dt_index = pd.DatetimeIndex(dates)\n",
        "dt_index"
      ],
      "execution_count": null,
      "outputs": [
        {
          "output_type": "execute_result",
          "data": {
            "text/plain": [
              "DatetimeIndex(['2019-01-23', '2019-01-24'], dtype='datetime64[ns]', freq=None)"
            ]
          },
          "metadata": {
            "tags": []
          },
          "execution_count": 10
        }
      ]
    },
    {
      "cell_type": "code",
      "metadata": {
        "id": "gguhF3T3e7-U",
        "colab_type": "code",
        "colab": {}
      },
      "source": [
        "# 랜덤 데이터를 생성하고 인덱스와 함께 DataFrame 만들기\n",
        "data = np.random.randn(2,2)\n",
        "cols = ['A','B']\n",
        "df = pd.DataFrame(data=data, index=dt_index, columns=cols)"
      ],
      "execution_count": null,
      "outputs": []
    },
    {
      "cell_type": "code",
      "metadata": {
        "id": "WcM9njoHe7-W",
        "colab_type": "code",
        "colab": {},
        "outputId": "b5f69177-892d-4e23-b8eb-2a45303a1fe9"
      },
      "source": [
        "df"
      ],
      "execution_count": null,
      "outputs": [
        {
          "output_type": "execute_result",
          "data": {
            "text/html": [
              "<div>\n",
              "<style scoped>\n",
              "    .dataframe tbody tr th:only-of-type {\n",
              "        vertical-align: middle;\n",
              "    }\n",
              "\n",
              "    .dataframe tbody tr th {\n",
              "        vertical-align: top;\n",
              "    }\n",
              "\n",
              "    .dataframe thead th {\n",
              "        text-align: right;\n",
              "    }\n",
              "</style>\n",
              "<table border=\"1\" class=\"dataframe\">\n",
              "  <thead>\n",
              "    <tr style=\"text-align: right;\">\n",
              "      <th></th>\n",
              "      <th>A</th>\n",
              "      <th>B</th>\n",
              "    </tr>\n",
              "  </thead>\n",
              "  <tbody>\n",
              "    <tr>\n",
              "      <th>2019-01-23</th>\n",
              "      <td>-1.093658</td>\n",
              "      <td>0.300429</td>\n",
              "    </tr>\n",
              "    <tr>\n",
              "      <th>2019-01-24</th>\n",
              "      <td>1.217856</td>\n",
              "      <td>0.792852</td>\n",
              "    </tr>\n",
              "  </tbody>\n",
              "</table>\n",
              "</div>"
            ],
            "text/plain": [
              "                   A         B\n",
              "2019-01-23 -1.093658  0.300429\n",
              "2019-01-24  1.217856  0.792852"
            ]
          },
          "metadata": {
            "tags": []
          },
          "execution_count": 12
        }
      ]
    },
    {
      "cell_type": "code",
      "metadata": {
        "id": "_kXC6A2Xe7-Y",
        "colab_type": "code",
        "colab": {},
        "outputId": "eef2868d-de7c-4ce5-f406-879837ac03e5"
      },
      "source": [
        "df.index"
      ],
      "execution_count": null,
      "outputs": [
        {
          "output_type": "execute_result",
          "data": {
            "text/plain": [
              "DatetimeIndex(['2019-01-23', '2019-01-24'], dtype='datetime64[ns]', freq=None)"
            ]
          },
          "metadata": {
            "tags": []
          },
          "execution_count": 13
        }
      ]
    },
    {
      "cell_type": "code",
      "metadata": {
        "id": "93SwrXloe7-a",
        "colab_type": "code",
        "colab": {},
        "outputId": "558a686c-baf7-47ad-c2e3-faaddd853151"
      },
      "source": [
        "# Latest Date Location\n",
        "df.index.argmax()"
      ],
      "execution_count": null,
      "outputs": [
        {
          "output_type": "execute_result",
          "data": {
            "text/plain": [
              "1"
            ]
          },
          "metadata": {
            "tags": []
          },
          "execution_count": 14
        }
      ]
    },
    {
      "cell_type": "code",
      "metadata": {
        "id": "TFzCFE1Ce7-d",
        "colab_type": "code",
        "colab": {},
        "outputId": "8328e82c-78a2-4595-d83a-226860830b89"
      },
      "source": [
        "df.index.max()"
      ],
      "execution_count": null,
      "outputs": [
        {
          "output_type": "execute_result",
          "data": {
            "text/plain": [
              "Timestamp('2019-01-24 00:00:00')"
            ]
          },
          "metadata": {
            "tags": []
          },
          "execution_count": 15
        }
      ]
    },
    {
      "cell_type": "code",
      "metadata": {
        "id": "JX-anuRpe7-f",
        "colab_type": "code",
        "colab": {},
        "outputId": "5e031e81-72af-4ba6-c8e2-81dcb703dea2"
      },
      "source": [
        "# Earliest Date Location\n",
        "df.index.argmin()"
      ],
      "execution_count": null,
      "outputs": [
        {
          "output_type": "execute_result",
          "data": {
            "text/plain": [
              "0"
            ]
          },
          "metadata": {
            "tags": []
          },
          "execution_count": 16
        }
      ]
    },
    {
      "cell_type": "code",
      "metadata": {
        "id": "KC05FkNge7-h",
        "colab_type": "code",
        "colab": {},
        "outputId": "b3dfc935-49e6-4343-980d-26085ed04b20"
      },
      "source": [
        "df.index.min()"
      ],
      "execution_count": null,
      "outputs": [
        {
          "output_type": "execute_result",
          "data": {
            "text/plain": [
              "Timestamp('2019-01-23 00:00:00')"
            ]
          },
          "metadata": {
            "tags": []
          },
          "execution_count": 17
        }
      ]
    }
  ]
}