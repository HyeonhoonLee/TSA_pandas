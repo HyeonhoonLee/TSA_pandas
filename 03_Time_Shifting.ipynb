{
  "nbformat": 4,
  "nbformat_minor": 0,
  "metadata": {
    "kernelspec": {
      "display_name": "tsa",
      "language": "python",
      "name": "tsa"
    },
    "language_info": {
      "codemirror_mode": {
        "name": "ipython",
        "version": 3
      },
      "file_extension": ".py",
      "mimetype": "text/x-python",
      "name": "python",
      "nbconvert_exporter": "python",
      "pygments_lexer": "ipython3",
      "version": "3.7.2"
    },
    "colab": {
      "name": "03. Time Shifting.ipynb",
      "provenance": [],
      "toc_visible": true,
      "include_colab_link": true
    }
  },
  "cells": [
    {
      "cell_type": "markdown",
      "metadata": {
        "id": "view-in-github",
        "colab_type": "text"
      },
      "source": [
        "<a href=\"https://colab.research.google.com/github/HyeonhoonLee/TSA_pandas/blob/master/03_Time_Shifting.ipynb\" target=\"_parent\"><img src=\"https://colab.research.google.com/assets/colab-badge.svg\" alt=\"Open In Colab\"/></a>"
      ]
    },
    {
      "cell_type": "markdown",
      "metadata": {
        "id": "F0cFFCUO3vYg",
        "colab_type": "text"
      },
      "source": [
        "# Time Shifting\n",
        "때때로 시계열 데이터의 인덱스에 따라 데이터를 일정한 간격으로 이동시켜야 할 경우가 있습니다. 그렇게 time shifting 된 데이터를 lagged 데이터라고 하는데, 시계열 데이터 분석 알고리즘 대부분은 이러한 lagged 데이터를 필요로 합니다. pandas 에는 이를 지원하는 함수들이 있어 편리하게 사용할 수 있습니다."
      ]
    },
    {
      "cell_type": "code",
      "metadata": {
        "id": "rLlEZQ_23vYk",
        "colab_type": "code",
        "colab": {}
      },
      "source": [
        "import pandas as pd\n",
        "\n",
        "import matplotlib.pyplot as plt\n",
        "%matplotlib inline"
      ],
      "execution_count": null,
      "outputs": []
    },
    {
      "cell_type": "code",
      "metadata": {
        "id": "hz3Sf3YF3vYx",
        "colab_type": "code",
        "colab": {}
      },
      "source": [
        "# csv 를 읽을 때부터 Date 칼럼을 인덱스로 지정\n",
        "df = pd.read_csv('data/apple_stock.csv', index_col='Date')"
      ],
      "execution_count": null,
      "outputs": []
    },
    {
      "cell_type": "code",
      "metadata": {
        "id": "aP2g9TnS3vY2",
        "colab_type": "code",
        "colab": {},
        "outputId": "152a1e66-55ba-40ac-a581-01cffbdc5323"
      },
      "source": [
        "df.index"
      ],
      "execution_count": null,
      "outputs": [
        {
          "output_type": "execute_result",
          "data": {
            "text/plain": [
              "Index(['2009-12-31', '2010-01-04', '2010-01-05', '2010-01-06', '2010-01-07',\n",
              "       '2010-01-08', '2010-01-11', '2010-01-12', '2010-01-13', '2010-01-14',\n",
              "       ...\n",
              "       '2018-12-17', '2018-12-18', '2018-12-19', '2018-12-20', '2018-12-21',\n",
              "       '2018-12-24', '2018-12-26', '2018-12-27', '2018-12-28', '2018-12-31'],\n",
              "      dtype='object', name='Date', length=2265)"
            ]
          },
          "metadata": {
            "tags": []
          },
          "execution_count": 3
        }
      ]
    },
    {
      "cell_type": "code",
      "metadata": {
        "id": "DVXPhQpo3vY-",
        "colab_type": "code",
        "colab": {},
        "outputId": "6f2bc75f-7301-4189-eca7-2d57f0d493d6"
      },
      "source": [
        "df.info()"
      ],
      "execution_count": null,
      "outputs": [
        {
          "output_type": "stream",
          "text": [
            "<class 'pandas.core.frame.DataFrame'>\n",
            "Index: 2265 entries, 2009-12-31 to 2018-12-31\n",
            "Data columns (total 6 columns):\n",
            "High         2265 non-null float64\n",
            "Low          2265 non-null float64\n",
            "Open         2265 non-null float64\n",
            "Close        2265 non-null float64\n",
            "Volume       2265 non-null float64\n",
            "Adj Close    2265 non-null float64\n",
            "dtypes: float64(6)\n",
            "memory usage: 123.9+ KB\n"
          ],
          "name": "stdout"
        }
      ]
    },
    {
      "cell_type": "markdown",
      "metadata": {
        "id": "4ixXmErk3vZE",
        "colab_type": "text"
      },
      "source": [
        "인덱스가 object 타입이므로 datetime 형으로 변환합니다."
      ]
    },
    {
      "cell_type": "code",
      "metadata": {
        "id": "llLlV19e3vZF",
        "colab_type": "code",
        "colab": {}
      },
      "source": [
        "df.index = pd.to_datetime(df.index)"
      ],
      "execution_count": null,
      "outputs": []
    },
    {
      "cell_type": "code",
      "metadata": {
        "id": "6rP7lkrw3vZJ",
        "colab_type": "code",
        "colab": {},
        "outputId": "2d74a8ba-b61b-43f4-c57f-d97bce07e26f"
      },
      "source": [
        "df.index"
      ],
      "execution_count": null,
      "outputs": [
        {
          "output_type": "execute_result",
          "data": {
            "text/plain": [
              "DatetimeIndex(['2009-12-31', '2010-01-04', '2010-01-05', '2010-01-06',\n",
              "               '2010-01-07', '2010-01-08', '2010-01-11', '2010-01-12',\n",
              "               '2010-01-13', '2010-01-14',\n",
              "               ...\n",
              "               '2018-12-17', '2018-12-18', '2018-12-19', '2018-12-20',\n",
              "               '2018-12-21', '2018-12-24', '2018-12-26', '2018-12-27',\n",
              "               '2018-12-28', '2018-12-31'],\n",
              "              dtype='datetime64[ns]', name='Date', length=2265, freq=None)"
            ]
          },
          "metadata": {
            "tags": []
          },
          "execution_count": 6
        }
      ]
    },
    {
      "cell_type": "code",
      "metadata": {
        "id": "Rd_nhh-N3vZQ",
        "colab_type": "code",
        "colab": {},
        "outputId": "08bac6a4-5f48-48d0-ead8-d09414af8030"
      },
      "source": [
        "df.info()"
      ],
      "execution_count": null,
      "outputs": [
        {
          "output_type": "stream",
          "text": [
            "<class 'pandas.core.frame.DataFrame'>\n",
            "DatetimeIndex: 2265 entries, 2009-12-31 to 2018-12-31\n",
            "Data columns (total 6 columns):\n",
            "High         2265 non-null float64\n",
            "Low          2265 non-null float64\n",
            "Open         2265 non-null float64\n",
            "Close        2265 non-null float64\n",
            "Volume       2265 non-null float64\n",
            "Adj Close    2265 non-null float64\n",
            "dtypes: float64(6)\n",
            "memory usage: 123.9 KB\n"
          ],
          "name": "stdout"
        }
      ]
    },
    {
      "cell_type": "code",
      "metadata": {
        "id": "Kv1HplXO3vZV",
        "colab_type": "code",
        "colab": {},
        "outputId": "44dc2689-4f83-4e90-8a16-1076682e698a"
      },
      "source": [
        "df.head()"
      ],
      "execution_count": null,
      "outputs": [
        {
          "output_type": "execute_result",
          "data": {
            "text/html": [
              "<div>\n",
              "<style scoped>\n",
              "    .dataframe tbody tr th:only-of-type {\n",
              "        vertical-align: middle;\n",
              "    }\n",
              "\n",
              "    .dataframe tbody tr th {\n",
              "        vertical-align: top;\n",
              "    }\n",
              "\n",
              "    .dataframe thead th {\n",
              "        text-align: right;\n",
              "    }\n",
              "</style>\n",
              "<table border=\"1\" class=\"dataframe\">\n",
              "  <thead>\n",
              "    <tr style=\"text-align: right;\">\n",
              "      <th></th>\n",
              "      <th>High</th>\n",
              "      <th>Low</th>\n",
              "      <th>Open</th>\n",
              "      <th>Close</th>\n",
              "      <th>Volume</th>\n",
              "      <th>Adj Close</th>\n",
              "    </tr>\n",
              "    <tr>\n",
              "      <th>Date</th>\n",
              "      <th></th>\n",
              "      <th></th>\n",
              "      <th></th>\n",
              "      <th></th>\n",
              "      <th></th>\n",
              "      <th></th>\n",
              "    </tr>\n",
              "  </thead>\n",
              "  <tbody>\n",
              "    <tr>\n",
              "      <th>2009-12-31</th>\n",
              "      <td>30.478571</td>\n",
              "      <td>30.080000</td>\n",
              "      <td>30.447144</td>\n",
              "      <td>30.104286</td>\n",
              "      <td>88102700.0</td>\n",
              "      <td>20.159719</td>\n",
              "    </tr>\n",
              "    <tr>\n",
              "      <th>2010-01-04</th>\n",
              "      <td>30.642857</td>\n",
              "      <td>30.340000</td>\n",
              "      <td>30.490000</td>\n",
              "      <td>30.572857</td>\n",
              "      <td>123432400.0</td>\n",
              "      <td>20.473503</td>\n",
              "    </tr>\n",
              "    <tr>\n",
              "      <th>2010-01-05</th>\n",
              "      <td>30.798571</td>\n",
              "      <td>30.464285</td>\n",
              "      <td>30.657143</td>\n",
              "      <td>30.625713</td>\n",
              "      <td>150476200.0</td>\n",
              "      <td>20.508902</td>\n",
              "    </tr>\n",
              "    <tr>\n",
              "      <th>2010-01-06</th>\n",
              "      <td>30.747143</td>\n",
              "      <td>30.107143</td>\n",
              "      <td>30.625713</td>\n",
              "      <td>30.138571</td>\n",
              "      <td>138040000.0</td>\n",
              "      <td>20.182680</td>\n",
              "    </tr>\n",
              "    <tr>\n",
              "      <th>2010-01-07</th>\n",
              "      <td>30.285715</td>\n",
              "      <td>29.864286</td>\n",
              "      <td>30.250000</td>\n",
              "      <td>30.082857</td>\n",
              "      <td>119282800.0</td>\n",
              "      <td>20.145369</td>\n",
              "    </tr>\n",
              "  </tbody>\n",
              "</table>\n",
              "</div>"
            ],
            "text/plain": [
              "                 High        Low       Open      Close       Volume  Adj Close\n",
              "Date                                                                          \n",
              "2009-12-31  30.478571  30.080000  30.447144  30.104286   88102700.0  20.159719\n",
              "2010-01-04  30.642857  30.340000  30.490000  30.572857  123432400.0  20.473503\n",
              "2010-01-05  30.798571  30.464285  30.657143  30.625713  150476200.0  20.508902\n",
              "2010-01-06  30.747143  30.107143  30.625713  30.138571  138040000.0  20.182680\n",
              "2010-01-07  30.285715  29.864286  30.250000  30.082857  119282800.0  20.145369"
            ]
          },
          "metadata": {
            "tags": []
          },
          "execution_count": 8
        }
      ]
    },
    {
      "cell_type": "code",
      "metadata": {
        "id": "tkbm6XsG3vZr",
        "colab_type": "code",
        "colab": {},
        "outputId": "7c88d8a8-3ab6-40ec-c525-2101150129be"
      },
      "source": [
        "df.tail()"
      ],
      "execution_count": null,
      "outputs": [
        {
          "output_type": "execute_result",
          "data": {
            "text/html": [
              "<div>\n",
              "<style scoped>\n",
              "    .dataframe tbody tr th:only-of-type {\n",
              "        vertical-align: middle;\n",
              "    }\n",
              "\n",
              "    .dataframe tbody tr th {\n",
              "        vertical-align: top;\n",
              "    }\n",
              "\n",
              "    .dataframe thead th {\n",
              "        text-align: right;\n",
              "    }\n",
              "</style>\n",
              "<table border=\"1\" class=\"dataframe\">\n",
              "  <thead>\n",
              "    <tr style=\"text-align: right;\">\n",
              "      <th></th>\n",
              "      <th>High</th>\n",
              "      <th>Low</th>\n",
              "      <th>Open</th>\n",
              "      <th>Close</th>\n",
              "      <th>Volume</th>\n",
              "      <th>Adj Close</th>\n",
              "    </tr>\n",
              "    <tr>\n",
              "      <th>Date</th>\n",
              "      <th></th>\n",
              "      <th></th>\n",
              "      <th></th>\n",
              "      <th></th>\n",
              "      <th></th>\n",
              "      <th></th>\n",
              "    </tr>\n",
              "  </thead>\n",
              "  <tbody>\n",
              "    <tr>\n",
              "      <th>2018-12-24</th>\n",
              "      <td>151.550003</td>\n",
              "      <td>146.589996</td>\n",
              "      <td>148.149994</td>\n",
              "      <td>146.830002</td>\n",
              "      <td>37169200.0</td>\n",
              "      <td>146.830002</td>\n",
              "    </tr>\n",
              "    <tr>\n",
              "      <th>2018-12-26</th>\n",
              "      <td>157.229996</td>\n",
              "      <td>146.720001</td>\n",
              "      <td>148.300003</td>\n",
              "      <td>157.169998</td>\n",
              "      <td>58582500.0</td>\n",
              "      <td>157.169998</td>\n",
              "    </tr>\n",
              "    <tr>\n",
              "      <th>2018-12-27</th>\n",
              "      <td>156.770004</td>\n",
              "      <td>150.070007</td>\n",
              "      <td>155.839996</td>\n",
              "      <td>156.149994</td>\n",
              "      <td>53117100.0</td>\n",
              "      <td>156.149994</td>\n",
              "    </tr>\n",
              "    <tr>\n",
              "      <th>2018-12-28</th>\n",
              "      <td>158.520004</td>\n",
              "      <td>154.550003</td>\n",
              "      <td>157.500000</td>\n",
              "      <td>156.229996</td>\n",
              "      <td>42291400.0</td>\n",
              "      <td>156.229996</td>\n",
              "    </tr>\n",
              "    <tr>\n",
              "      <th>2018-12-31</th>\n",
              "      <td>159.360001</td>\n",
              "      <td>156.479996</td>\n",
              "      <td>158.529999</td>\n",
              "      <td>157.740005</td>\n",
              "      <td>35003500.0</td>\n",
              "      <td>157.740005</td>\n",
              "    </tr>\n",
              "  </tbody>\n",
              "</table>\n",
              "</div>"
            ],
            "text/plain": [
              "                  High         Low        Open       Close      Volume  \\\n",
              "Date                                                                     \n",
              "2018-12-24  151.550003  146.589996  148.149994  146.830002  37169200.0   \n",
              "2018-12-26  157.229996  146.720001  148.300003  157.169998  58582500.0   \n",
              "2018-12-27  156.770004  150.070007  155.839996  156.149994  53117100.0   \n",
              "2018-12-28  158.520004  154.550003  157.500000  156.229996  42291400.0   \n",
              "2018-12-31  159.360001  156.479996  158.529999  157.740005  35003500.0   \n",
              "\n",
              "             Adj Close  \n",
              "Date                    \n",
              "2018-12-24  146.830002  \n",
              "2018-12-26  157.169998  \n",
              "2018-12-27  156.149994  \n",
              "2018-12-28  156.229996  \n",
              "2018-12-31  157.740005  "
            ]
          },
          "metadata": {
            "tags": []
          },
          "execution_count": 9
        }
      ]
    },
    {
      "cell_type": "markdown",
      "metadata": {
        "id": "QHiILrB13vZ8",
        "colab_type": "text"
      },
      "source": [
        "## shift forward"
      ]
    },
    {
      "cell_type": "code",
      "metadata": {
        "id": "uo6yiYER3vZ-",
        "colab_type": "code",
        "colab": {},
        "outputId": "b76b3052-73af-4427-e490-268477d295b7"
      },
      "source": [
        "df.shift(1).head()"
      ],
      "execution_count": null,
      "outputs": [
        {
          "output_type": "execute_result",
          "data": {
            "text/html": [
              "<div>\n",
              "<style scoped>\n",
              "    .dataframe tbody tr th:only-of-type {\n",
              "        vertical-align: middle;\n",
              "    }\n",
              "\n",
              "    .dataframe tbody tr th {\n",
              "        vertical-align: top;\n",
              "    }\n",
              "\n",
              "    .dataframe thead th {\n",
              "        text-align: right;\n",
              "    }\n",
              "</style>\n",
              "<table border=\"1\" class=\"dataframe\">\n",
              "  <thead>\n",
              "    <tr style=\"text-align: right;\">\n",
              "      <th></th>\n",
              "      <th>High</th>\n",
              "      <th>Low</th>\n",
              "      <th>Open</th>\n",
              "      <th>Close</th>\n",
              "      <th>Volume</th>\n",
              "      <th>Adj Close</th>\n",
              "    </tr>\n",
              "    <tr>\n",
              "      <th>Date</th>\n",
              "      <th></th>\n",
              "      <th></th>\n",
              "      <th></th>\n",
              "      <th></th>\n",
              "      <th></th>\n",
              "      <th></th>\n",
              "    </tr>\n",
              "  </thead>\n",
              "  <tbody>\n",
              "    <tr>\n",
              "      <th>2009-12-31</th>\n",
              "      <td>NaN</td>\n",
              "      <td>NaN</td>\n",
              "      <td>NaN</td>\n",
              "      <td>NaN</td>\n",
              "      <td>NaN</td>\n",
              "      <td>NaN</td>\n",
              "    </tr>\n",
              "    <tr>\n",
              "      <th>2010-01-04</th>\n",
              "      <td>30.478571</td>\n",
              "      <td>30.080000</td>\n",
              "      <td>30.447144</td>\n",
              "      <td>30.104286</td>\n",
              "      <td>88102700.0</td>\n",
              "      <td>20.159719</td>\n",
              "    </tr>\n",
              "    <tr>\n",
              "      <th>2010-01-05</th>\n",
              "      <td>30.642857</td>\n",
              "      <td>30.340000</td>\n",
              "      <td>30.490000</td>\n",
              "      <td>30.572857</td>\n",
              "      <td>123432400.0</td>\n",
              "      <td>20.473503</td>\n",
              "    </tr>\n",
              "    <tr>\n",
              "      <th>2010-01-06</th>\n",
              "      <td>30.798571</td>\n",
              "      <td>30.464285</td>\n",
              "      <td>30.657143</td>\n",
              "      <td>30.625713</td>\n",
              "      <td>150476200.0</td>\n",
              "      <td>20.508902</td>\n",
              "    </tr>\n",
              "    <tr>\n",
              "      <th>2010-01-07</th>\n",
              "      <td>30.747143</td>\n",
              "      <td>30.107143</td>\n",
              "      <td>30.625713</td>\n",
              "      <td>30.138571</td>\n",
              "      <td>138040000.0</td>\n",
              "      <td>20.182680</td>\n",
              "    </tr>\n",
              "  </tbody>\n",
              "</table>\n",
              "</div>"
            ],
            "text/plain": [
              "                 High        Low       Open      Close       Volume  Adj Close\n",
              "Date                                                                          \n",
              "2009-12-31        NaN        NaN        NaN        NaN          NaN        NaN\n",
              "2010-01-04  30.478571  30.080000  30.447144  30.104286   88102700.0  20.159719\n",
              "2010-01-05  30.642857  30.340000  30.490000  30.572857  123432400.0  20.473503\n",
              "2010-01-06  30.798571  30.464285  30.657143  30.625713  150476200.0  20.508902\n",
              "2010-01-07  30.747143  30.107143  30.625713  30.138571  138040000.0  20.182680"
            ]
          },
          "metadata": {
            "tags": []
          },
          "execution_count": 10
        }
      ]
    },
    {
      "cell_type": "code",
      "metadata": {
        "id": "qvgKqsi03vaI",
        "colab_type": "code",
        "colab": {},
        "outputId": "37bbf5ac-0f91-4cf4-e707-2b45380fc071"
      },
      "source": [
        "# 인덱스 밖으로 밀려난 마지막 데이터를 잃게 됩니다.\n",
        "df.shift(1).tail()"
      ],
      "execution_count": null,
      "outputs": [
        {
          "output_type": "execute_result",
          "data": {
            "text/html": [
              "<div>\n",
              "<style scoped>\n",
              "    .dataframe tbody tr th:only-of-type {\n",
              "        vertical-align: middle;\n",
              "    }\n",
              "\n",
              "    .dataframe tbody tr th {\n",
              "        vertical-align: top;\n",
              "    }\n",
              "\n",
              "    .dataframe thead th {\n",
              "        text-align: right;\n",
              "    }\n",
              "</style>\n",
              "<table border=\"1\" class=\"dataframe\">\n",
              "  <thead>\n",
              "    <tr style=\"text-align: right;\">\n",
              "      <th></th>\n",
              "      <th>High</th>\n",
              "      <th>Low</th>\n",
              "      <th>Open</th>\n",
              "      <th>Close</th>\n",
              "      <th>Volume</th>\n",
              "      <th>Adj Close</th>\n",
              "    </tr>\n",
              "    <tr>\n",
              "      <th>Date</th>\n",
              "      <th></th>\n",
              "      <th></th>\n",
              "      <th></th>\n",
              "      <th></th>\n",
              "      <th></th>\n",
              "      <th></th>\n",
              "    </tr>\n",
              "  </thead>\n",
              "  <tbody>\n",
              "    <tr>\n",
              "      <th>2018-12-24</th>\n",
              "      <td>158.160004</td>\n",
              "      <td>149.630005</td>\n",
              "      <td>156.860001</td>\n",
              "      <td>150.729996</td>\n",
              "      <td>95744600.0</td>\n",
              "      <td>150.729996</td>\n",
              "    </tr>\n",
              "    <tr>\n",
              "      <th>2018-12-26</th>\n",
              "      <td>151.550003</td>\n",
              "      <td>146.589996</td>\n",
              "      <td>148.149994</td>\n",
              "      <td>146.830002</td>\n",
              "      <td>37169200.0</td>\n",
              "      <td>146.830002</td>\n",
              "    </tr>\n",
              "    <tr>\n",
              "      <th>2018-12-27</th>\n",
              "      <td>157.229996</td>\n",
              "      <td>146.720001</td>\n",
              "      <td>148.300003</td>\n",
              "      <td>157.169998</td>\n",
              "      <td>58582500.0</td>\n",
              "      <td>157.169998</td>\n",
              "    </tr>\n",
              "    <tr>\n",
              "      <th>2018-12-28</th>\n",
              "      <td>156.770004</td>\n",
              "      <td>150.070007</td>\n",
              "      <td>155.839996</td>\n",
              "      <td>156.149994</td>\n",
              "      <td>53117100.0</td>\n",
              "      <td>156.149994</td>\n",
              "    </tr>\n",
              "    <tr>\n",
              "      <th>2018-12-31</th>\n",
              "      <td>158.520004</td>\n",
              "      <td>154.550003</td>\n",
              "      <td>157.500000</td>\n",
              "      <td>156.229996</td>\n",
              "      <td>42291400.0</td>\n",
              "      <td>156.229996</td>\n",
              "    </tr>\n",
              "  </tbody>\n",
              "</table>\n",
              "</div>"
            ],
            "text/plain": [
              "                  High         Low        Open       Close      Volume  \\\n",
              "Date                                                                     \n",
              "2018-12-24  158.160004  149.630005  156.860001  150.729996  95744600.0   \n",
              "2018-12-26  151.550003  146.589996  148.149994  146.830002  37169200.0   \n",
              "2018-12-27  157.229996  146.720001  148.300003  157.169998  58582500.0   \n",
              "2018-12-28  156.770004  150.070007  155.839996  156.149994  53117100.0   \n",
              "2018-12-31  158.520004  154.550003  157.500000  156.229996  42291400.0   \n",
              "\n",
              "             Adj Close  \n",
              "Date                    \n",
              "2018-12-24  150.729996  \n",
              "2018-12-26  146.830002  \n",
              "2018-12-27  157.169998  \n",
              "2018-12-28  156.149994  \n",
              "2018-12-31  156.229996  "
            ]
          },
          "metadata": {
            "tags": []
          },
          "execution_count": 11
        }
      ]
    },
    {
      "cell_type": "markdown",
      "metadata": {
        "id": "5fIZHoMI3vad",
        "colab_type": "text"
      },
      "source": [
        "## shift backward"
      ]
    },
    {
      "cell_type": "code",
      "metadata": {
        "id": "YDk4-wBF3vak",
        "colab_type": "code",
        "colab": {},
        "outputId": "8419eb4c-603d-4cb4-f332-7dbe36592a4a"
      },
      "source": [
        "df.shift(-1).head()"
      ],
      "execution_count": null,
      "outputs": [
        {
          "output_type": "execute_result",
          "data": {
            "text/html": [
              "<div>\n",
              "<style scoped>\n",
              "    .dataframe tbody tr th:only-of-type {\n",
              "        vertical-align: middle;\n",
              "    }\n",
              "\n",
              "    .dataframe tbody tr th {\n",
              "        vertical-align: top;\n",
              "    }\n",
              "\n",
              "    .dataframe thead th {\n",
              "        text-align: right;\n",
              "    }\n",
              "</style>\n",
              "<table border=\"1\" class=\"dataframe\">\n",
              "  <thead>\n",
              "    <tr style=\"text-align: right;\">\n",
              "      <th></th>\n",
              "      <th>High</th>\n",
              "      <th>Low</th>\n",
              "      <th>Open</th>\n",
              "      <th>Close</th>\n",
              "      <th>Volume</th>\n",
              "      <th>Adj Close</th>\n",
              "    </tr>\n",
              "    <tr>\n",
              "      <th>Date</th>\n",
              "      <th></th>\n",
              "      <th></th>\n",
              "      <th></th>\n",
              "      <th></th>\n",
              "      <th></th>\n",
              "      <th></th>\n",
              "    </tr>\n",
              "  </thead>\n",
              "  <tbody>\n",
              "    <tr>\n",
              "      <th>2009-12-31</th>\n",
              "      <td>30.642857</td>\n",
              "      <td>30.340000</td>\n",
              "      <td>30.490000</td>\n",
              "      <td>30.572857</td>\n",
              "      <td>123432400.0</td>\n",
              "      <td>20.473503</td>\n",
              "    </tr>\n",
              "    <tr>\n",
              "      <th>2010-01-04</th>\n",
              "      <td>30.798571</td>\n",
              "      <td>30.464285</td>\n",
              "      <td>30.657143</td>\n",
              "      <td>30.625713</td>\n",
              "      <td>150476200.0</td>\n",
              "      <td>20.508902</td>\n",
              "    </tr>\n",
              "    <tr>\n",
              "      <th>2010-01-05</th>\n",
              "      <td>30.747143</td>\n",
              "      <td>30.107143</td>\n",
              "      <td>30.625713</td>\n",
              "      <td>30.138571</td>\n",
              "      <td>138040000.0</td>\n",
              "      <td>20.182680</td>\n",
              "    </tr>\n",
              "    <tr>\n",
              "      <th>2010-01-06</th>\n",
              "      <td>30.285715</td>\n",
              "      <td>29.864286</td>\n",
              "      <td>30.250000</td>\n",
              "      <td>30.082857</td>\n",
              "      <td>119282800.0</td>\n",
              "      <td>20.145369</td>\n",
              "    </tr>\n",
              "    <tr>\n",
              "      <th>2010-01-07</th>\n",
              "      <td>30.285715</td>\n",
              "      <td>29.865715</td>\n",
              "      <td>30.042856</td>\n",
              "      <td>30.282858</td>\n",
              "      <td>111902700.0</td>\n",
              "      <td>20.279305</td>\n",
              "    </tr>\n",
              "  </tbody>\n",
              "</table>\n",
              "</div>"
            ],
            "text/plain": [
              "                 High        Low       Open      Close       Volume  Adj Close\n",
              "Date                                                                          \n",
              "2009-12-31  30.642857  30.340000  30.490000  30.572857  123432400.0  20.473503\n",
              "2010-01-04  30.798571  30.464285  30.657143  30.625713  150476200.0  20.508902\n",
              "2010-01-05  30.747143  30.107143  30.625713  30.138571  138040000.0  20.182680\n",
              "2010-01-06  30.285715  29.864286  30.250000  30.082857  119282800.0  20.145369\n",
              "2010-01-07  30.285715  29.865715  30.042856  30.282858  111902700.0  20.279305"
            ]
          },
          "metadata": {
            "tags": []
          },
          "execution_count": 12
        }
      ]
    },
    {
      "cell_type": "code",
      "metadata": {
        "id": "A3jzwy0V3vaq",
        "colab_type": "code",
        "colab": {},
        "outputId": "fd753cc4-5905-4e4f-d08c-dabc29ec9a60"
      },
      "source": [
        "df.shift(-1).tail()"
      ],
      "execution_count": null,
      "outputs": [
        {
          "output_type": "execute_result",
          "data": {
            "text/html": [
              "<div>\n",
              "<style scoped>\n",
              "    .dataframe tbody tr th:only-of-type {\n",
              "        vertical-align: middle;\n",
              "    }\n",
              "\n",
              "    .dataframe tbody tr th {\n",
              "        vertical-align: top;\n",
              "    }\n",
              "\n",
              "    .dataframe thead th {\n",
              "        text-align: right;\n",
              "    }\n",
              "</style>\n",
              "<table border=\"1\" class=\"dataframe\">\n",
              "  <thead>\n",
              "    <tr style=\"text-align: right;\">\n",
              "      <th></th>\n",
              "      <th>High</th>\n",
              "      <th>Low</th>\n",
              "      <th>Open</th>\n",
              "      <th>Close</th>\n",
              "      <th>Volume</th>\n",
              "      <th>Adj Close</th>\n",
              "    </tr>\n",
              "    <tr>\n",
              "      <th>Date</th>\n",
              "      <th></th>\n",
              "      <th></th>\n",
              "      <th></th>\n",
              "      <th></th>\n",
              "      <th></th>\n",
              "      <th></th>\n",
              "    </tr>\n",
              "  </thead>\n",
              "  <tbody>\n",
              "    <tr>\n",
              "      <th>2018-12-24</th>\n",
              "      <td>157.229996</td>\n",
              "      <td>146.720001</td>\n",
              "      <td>148.300003</td>\n",
              "      <td>157.169998</td>\n",
              "      <td>58582500.0</td>\n",
              "      <td>157.169998</td>\n",
              "    </tr>\n",
              "    <tr>\n",
              "      <th>2018-12-26</th>\n",
              "      <td>156.770004</td>\n",
              "      <td>150.070007</td>\n",
              "      <td>155.839996</td>\n",
              "      <td>156.149994</td>\n",
              "      <td>53117100.0</td>\n",
              "      <td>156.149994</td>\n",
              "    </tr>\n",
              "    <tr>\n",
              "      <th>2018-12-27</th>\n",
              "      <td>158.520004</td>\n",
              "      <td>154.550003</td>\n",
              "      <td>157.500000</td>\n",
              "      <td>156.229996</td>\n",
              "      <td>42291400.0</td>\n",
              "      <td>156.229996</td>\n",
              "    </tr>\n",
              "    <tr>\n",
              "      <th>2018-12-28</th>\n",
              "      <td>159.360001</td>\n",
              "      <td>156.479996</td>\n",
              "      <td>158.529999</td>\n",
              "      <td>157.740005</td>\n",
              "      <td>35003500.0</td>\n",
              "      <td>157.740005</td>\n",
              "    </tr>\n",
              "    <tr>\n",
              "      <th>2018-12-31</th>\n",
              "      <td>NaN</td>\n",
              "      <td>NaN</td>\n",
              "      <td>NaN</td>\n",
              "      <td>NaN</td>\n",
              "      <td>NaN</td>\n",
              "      <td>NaN</td>\n",
              "    </tr>\n",
              "  </tbody>\n",
              "</table>\n",
              "</div>"
            ],
            "text/plain": [
              "                  High         Low        Open       Close      Volume  \\\n",
              "Date                                                                     \n",
              "2018-12-24  157.229996  146.720001  148.300003  157.169998  58582500.0   \n",
              "2018-12-26  156.770004  150.070007  155.839996  156.149994  53117100.0   \n",
              "2018-12-27  158.520004  154.550003  157.500000  156.229996  42291400.0   \n",
              "2018-12-28  159.360001  156.479996  158.529999  157.740005  35003500.0   \n",
              "2018-12-31         NaN         NaN         NaN         NaN         NaN   \n",
              "\n",
              "             Adj Close  \n",
              "Date                    \n",
              "2018-12-24  157.169998  \n",
              "2018-12-26  156.149994  \n",
              "2018-12-27  156.229996  \n",
              "2018-12-28  157.740005  \n",
              "2018-12-31         NaN  "
            ]
          },
          "metadata": {
            "tags": []
          },
          "execution_count": 13
        }
      ]
    },
    {
      "cell_type": "markdown",
      "metadata": {
        "id": "W0lhxmYk3vav",
        "colab_type": "text"
      },
      "source": [
        "## shifting based on offset alias"
      ]
    },
    {
      "cell_type": "code",
      "metadata": {
        "id": "FIs__Iqx3vax",
        "colab_type": "code",
        "colab": {},
        "outputId": "f5ac1a82-0922-488e-d57e-72f996286f54"
      },
      "source": [
        "# 한 달 앞으로 모든 데이터를 shift\n",
        "df.tshift(freq='M', periods=12).head()"
      ],
      "execution_count": null,
      "outputs": [
        {
          "output_type": "execute_result",
          "data": {
            "text/html": [
              "<div>\n",
              "<style scoped>\n",
              "    .dataframe tbody tr th:only-of-type {\n",
              "        vertical-align: middle;\n",
              "    }\n",
              "\n",
              "    .dataframe tbody tr th {\n",
              "        vertical-align: top;\n",
              "    }\n",
              "\n",
              "    .dataframe thead th {\n",
              "        text-align: right;\n",
              "    }\n",
              "</style>\n",
              "<table border=\"1\" class=\"dataframe\">\n",
              "  <thead>\n",
              "    <tr style=\"text-align: right;\">\n",
              "      <th></th>\n",
              "      <th>High</th>\n",
              "      <th>Low</th>\n",
              "      <th>Open</th>\n",
              "      <th>Close</th>\n",
              "      <th>Volume</th>\n",
              "      <th>Adj Close</th>\n",
              "    </tr>\n",
              "    <tr>\n",
              "      <th>Date</th>\n",
              "      <th></th>\n",
              "      <th></th>\n",
              "      <th></th>\n",
              "      <th></th>\n",
              "      <th></th>\n",
              "      <th></th>\n",
              "    </tr>\n",
              "  </thead>\n",
              "  <tbody>\n",
              "    <tr>\n",
              "      <th>2010-12-31</th>\n",
              "      <td>30.478571</td>\n",
              "      <td>30.080000</td>\n",
              "      <td>30.447144</td>\n",
              "      <td>30.104286</td>\n",
              "      <td>88102700.0</td>\n",
              "      <td>20.159719</td>\n",
              "    </tr>\n",
              "    <tr>\n",
              "      <th>2010-12-31</th>\n",
              "      <td>30.642857</td>\n",
              "      <td>30.340000</td>\n",
              "      <td>30.490000</td>\n",
              "      <td>30.572857</td>\n",
              "      <td>123432400.0</td>\n",
              "      <td>20.473503</td>\n",
              "    </tr>\n",
              "    <tr>\n",
              "      <th>2010-12-31</th>\n",
              "      <td>30.798571</td>\n",
              "      <td>30.464285</td>\n",
              "      <td>30.657143</td>\n",
              "      <td>30.625713</td>\n",
              "      <td>150476200.0</td>\n",
              "      <td>20.508902</td>\n",
              "    </tr>\n",
              "    <tr>\n",
              "      <th>2010-12-31</th>\n",
              "      <td>30.747143</td>\n",
              "      <td>30.107143</td>\n",
              "      <td>30.625713</td>\n",
              "      <td>30.138571</td>\n",
              "      <td>138040000.0</td>\n",
              "      <td>20.182680</td>\n",
              "    </tr>\n",
              "    <tr>\n",
              "      <th>2010-12-31</th>\n",
              "      <td>30.285715</td>\n",
              "      <td>29.864286</td>\n",
              "      <td>30.250000</td>\n",
              "      <td>30.082857</td>\n",
              "      <td>119282800.0</td>\n",
              "      <td>20.145369</td>\n",
              "    </tr>\n",
              "  </tbody>\n",
              "</table>\n",
              "</div>"
            ],
            "text/plain": [
              "                 High        Low       Open      Close       Volume  Adj Close\n",
              "Date                                                                          \n",
              "2010-12-31  30.478571  30.080000  30.447144  30.104286   88102700.0  20.159719\n",
              "2010-12-31  30.642857  30.340000  30.490000  30.572857  123432400.0  20.473503\n",
              "2010-12-31  30.798571  30.464285  30.657143  30.625713  150476200.0  20.508902\n",
              "2010-12-31  30.747143  30.107143  30.625713  30.138571  138040000.0  20.182680\n",
              "2010-12-31  30.285715  29.864286  30.250000  30.082857  119282800.0  20.145369"
            ]
          },
          "metadata": {
            "tags": []
          },
          "execution_count": 14
        }
      ]
    }
  ]
}